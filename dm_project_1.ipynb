{
 "cells": [
  {
   "cell_type": "code",
   "execution_count": 1,
   "metadata": {},
   "outputs": [],
   "source": [
    "from pandas import DataFrame, read_csv\n",
    "import matplotlib.pyplot as plt\n",
    "import pandas as pd #this is how I usually import pandas\n",
    "import sys #only needed to determine Python version number\n",
    "import matplotlib #only needed to determine Matplotlib version number\n",
    "%matplotlib inline"
   ]
  },
  {
   "cell_type": "code",
   "execution_count": 25,
   "metadata": {},
   "outputs": [],
   "source": [
    "months = ['april','febrouary','march']\n",
    "files = ['\\listings.csv','\\listings0.csv']\n",
    "# inputPath= r\"C:\\Users\\myrto\\Desktop\\data\\april\"\n",
    "inputPath= r\"C:\\Users\\nikol\\Desktop\\dataMining_p1\\data\\data\\april\"\n",
    "columnlist = ['id','zipcode','transit','bedrooms','beds','review_scores_rating','number_of_reviews','neighbourhood','name','latitude','longitude','last_review','instant_bookable','host_since','host_response_rate','host_identity_verified','host_has_profile_pic','first_review','description','city','cancellation_policy','bed_type','bathrooms','accommodates','amenities','room_type','property_type','price','availability_365','minimum_nights','host_id']\n",
    "\n",
    "framelist = []\n",
    "\n",
    "for file in files:\n",
    "    tempfile = pd.read_csv(inputPath+file)\n",
    "    tempframe = pd.DataFrame(data=tempfile)\n",
    "    framelist.append(tempframe)\n",
    "\n",
    "length = len(framelist)-1\n",
    "\n",
    "for l in range(0,length):\n",
    "    #train = framelist[0].merge(framelist[l+1],left_on='id',right_on='id')\n",
    "    train = framelist[0].combine_first(framelist[l+1])\n",
    "\n",
    "df = pd.DataFrame(data = train, columns=columnlist)\n",
    "\n",
    "normalValues = []\n",
    "for pr in df['price']:\n",
    "    temp = pr.lstrip('$')\n",
    "    temp = temp.replace(',','')\n",
    "    # print(temp)\n",
    "    temp = float(temp)\n",
    "    # print(temp)\n",
    "    normalValues.append(temp)\n",
    "df['price'] = normalValues\n",
    "\n",
    "# df.to_csv(\"train.csv\");\n",
    "\n",
    "# df['accomodates']\n",
    "# df\n",
    "#train = pd.DataFrame(data=train)\n",
    "#train"
   ]
  },
  {
   "cell_type": "code",
   "execution_count": 26,
   "metadata": {},
   "outputs": [
    {
     "output_type": "execute_result",
     "data": {
      "text/plain": "Entire home/apt    8510\nName: room_type, dtype: int64"
     },
     "metadata": {},
     "execution_count": 26
    }
   ],
   "source": [
    "# 1\n",
    "df['room_type'].value_counts().head(1)"
   ]
  },
  {
   "cell_type": "code",
   "execution_count": 238,
   "metadata": {},
   "outputs": [],
   "source": [
    "# 2\n",
    "# df.plot(kind='line',x='host_since',y='price')\n",
    ""
   ]
  },
  {
   "cell_type": "code",
   "execution_count": 27,
   "metadata": {},
   "outputs": [
    {
     "output_type": "execute_result",
     "data": {
      "text/plain": "<pandas.io.formats.style.Styler at 0x2766f5956c8>",
      "text/html": "<style  type=\"text/css\" >\n</style><table id=\"T_94ddefa2_79c2_11ea_baef_98fa9b8e8849\" ><thead>    <tr>        <th class=\"col_heading level0 col0\" >neighbourhood</th>        <th class=\"col_heading level0 col1\" >comments</th>    </tr></thead><tbody>\n                <tr>\n                                <td id=\"T_94ddefa2_79c2_11ea_baef_98fa9b8e8849row0_col0\" class=\"data row0 col0\" >Plaka</td>\n                        <td id=\"T_94ddefa2_79c2_11ea_baef_98fa9b8e8849row0_col1\" class=\"data row0 col1\" >1116</td>\n            </tr>\n            <tr>\n                                <td id=\"T_94ddefa2_79c2_11ea_baef_98fa9b8e8849row1_col0\" class=\"data row1 col0\" >Neos Kosmos</td>\n                        <td id=\"T_94ddefa2_79c2_11ea_baef_98fa9b8e8849row1_col1\" class=\"data row1 col1\" >809</td>\n            </tr>\n            <tr>\n                                <td id=\"T_94ddefa2_79c2_11ea_baef_98fa9b8e8849row2_col0\" class=\"data row2 col0\" >Koukaki</td>\n                        <td id=\"T_94ddefa2_79c2_11ea_baef_98fa9b8e8849row2_col1\" class=\"data row2 col1\" >806</td>\n            </tr>\n            <tr>\n                                <td id=\"T_94ddefa2_79c2_11ea_baef_98fa9b8e8849row3_col0\" class=\"data row3 col0\" >Kolonaki</td>\n                        <td id=\"T_94ddefa2_79c2_11ea_baef_98fa9b8e8849row3_col1\" class=\"data row3 col1\" >611</td>\n            </tr>\n            <tr>\n                                <td id=\"T_94ddefa2_79c2_11ea_baef_98fa9b8e8849row4_col0\" class=\"data row4 col0\" >Pangrati</td>\n                        <td id=\"T_94ddefa2_79c2_11ea_baef_98fa9b8e8849row4_col1\" class=\"data row4 col1\" >602</td>\n            </tr>\n    </tbody></table>"
     },
     "metadata": {},
     "execution_count": 27
    }
   ],
   "source": [
    "# 3\n",
    "\n",
    "temp = df[['id','neighbourhood']]\n",
    "# reviews = r'C:\\Users\\myrto\\Desktop\\data\\april\\reviews.csv'\n",
    "# reviews0 = r'C:\\Users\\myrto\\Desktop\\data\\april\\reviews0.csv'\n",
    "reviews = r'C:\\Users\\nikol\\Desktop\\dataMining_p1\\data\\data\\april\\reviews.csv'\n",
    "reviews0 = r'C:\\Users\\nikol\\Desktop\\dataMining_p1\\data\\data\\april\\reviews0.csv'\n",
    "reviews = pd.read_csv(reviews)\n",
    "reviews0 = pd.read_csv(reviews0)\n",
    "reviews = pd.DataFrame(data=reviews)\n",
    "reviews0 = pd.DataFrame(data=reviews0)\n",
    "reviews = reviews.combine_first(reviews0)\n",
    "reviews = reviews[['id','comments']]\n",
    "#reviews\n",
    "temp = temp.combine_first(reviews)\n",
    "temp = temp[['neighbourhood','comments']].groupby('neighbourhood',as_index=False).count()\n",
    "temp = temp.sort_values(['comments'],ascending=False)\n",
    "temp.head(5).style.hide_index()\n",
    ""
   ]
  },
  {
   "cell_type": "code",
   "execution_count": 23,
   "metadata": {},
   "outputs": [
    {
     "output_type": "execute_result",
     "data": {
      "text/plain": "<pandas.io.formats.style.Styler at 0x2765a736688>",
      "text/html": "<style  type=\"text/css\" >\n</style><table id=\"T_60dbf96e_79c2_11ea_b2bf_98fa9b8e8849\" ><thead>    <tr>        <th class=\"col_heading level0 col0\" >neighbourhood</th>        <th class=\"col_heading level0 col1\" >host_id</th>    </tr></thead><tbody>\n                <tr>\n                                <td id=\"T_60dbf96e_79c2_11ea_b2bf_98fa9b8e8849row0_col0\" class=\"data row0 col0\" >Plaka</td>\n                        <td id=\"T_60dbf96e_79c2_11ea_b2bf_98fa9b8e8849row0_col1\" class=\"data row0 col1\" >574</td>\n            </tr>\n    </tbody></table>"
     },
     "metadata": {},
     "execution_count": 23
    }
   ],
   "source": [
    "#4\n",
    "# df.groupby(by='neighbourhood',as_index=False).agg({'host_id':'sum'})\n",
    "df.groupby(by='neighbourhood',as_index=False).agg({'host_id':'nunique'}).sort_values(['host_id'],ascending=False,ignore_index=True).head(1).style.hide_index()\n",
    "\n",
    "# ['host_id'].nunique(5)\n",
    "# df.groupby(['neighbourhood'])['host_id'].nunique()\n",
    "# df.neighbourhood.value_counts()\n",
    "# df.groupby(['neighbourhood'])['host_id'].transform('nunique')\n",
    ""
   ]
  },
  {
   "cell_type": "code",
   "execution_count": 241,
   "metadata": {},
   "outputs": [],
   "source": [
    "#5\n",
    "\n",
    ""
   ]
  },
  {
   "cell_type": "code",
   "execution_count": 242,
   "metadata": {},
   "outputs": [],
   "source": [
    "#6"
   ]
  },
  {
   "cell_type": "code",
   "execution_count": 28,
   "metadata": {},
   "outputs": [
    {
     "output_type": "execute_result",
     "data": {
      "text/plain": "neighbourhood                     room_type      \nPlaka                             Entire home/apt    1021\nNeos Kosmos                       Entire home/apt     747\nKoukaki                           Entire home/apt     733\nKolonaki                          Entire home/apt     573\nPangrati                          Entire home/apt     552\n                                                     ... \nProfitis Daniil                   Shared room           1\nΑΓΙΟΣ ΚΩΝΣΤΑΝΤΙΝΟΣ-ΠΛΑΤΕΙΑ ΒΑΘΗΣ  Entire home/apt       1\nΕΜΠΟΡΙΚΟ ΤΡΙΓΩΝΟ-ΠΛΑΚΑ            Private room          1\nAgios Loukas                      Shared room           1\nΜΟΥΣΕΙΟ-ΕΞΑΡΧΕΙΑ-ΝΕΑΠΟΛΗ          Entire home/apt       1\nLength: 85, dtype: int64"
     },
     "metadata": {},
     "execution_count": 28
    }
   ],
   "source": [
    "#7\n",
    "\n",
    "temp = df[['room_type','neighbourhood']]\n",
    "temp = temp.groupby(['neighbourhood','room_type']).size().sort_values(ascending=False)\n",
    "#temp.to_csv(\"new.csv\")\n",
    "\n",
    "temp\n",
    ""
   ]
  },
  {
   "cell_type": "code",
   "execution_count": 29,
   "metadata": {
    "tags": [
     "outputPrepend",
     "outputPrepend"
    ]
   },
   "outputs": [
    {
     "output_type": "execute_result",
     "data": {
      "text/plain": "<pandas.io.formats.style.Styler at 0x2764e2788c8>",
      "text/html": "<style  type=\"text/css\" >\n</style><table id=\"T_e939eca8_79c2_11ea_a4da_98fa9b8e8849\" ><thead>    <tr>        <th class=\"col_heading level0 col0\" >room_type</th>        <th class=\"col_heading level0 col1\" >price</th>    </tr></thead><tbody>\n                <tr>\n                                <td id=\"T_e939eca8_79c2_11ea_a4da_98fa9b8e8849row0_col0\" class=\"data row0 col0\" >Private room</td>\n                        <td id=\"T_e939eca8_79c2_11ea_a4da_98fa9b8e8849row0_col1\" class=\"data row0 col1\" >78.677536</td>\n            </tr>\n            <tr>\n                                <td id=\"T_e939eca8_79c2_11ea_a4da_98fa9b8e8849row1_col0\" class=\"data row1 col0\" >Entire home/apt</td>\n                        <td id=\"T_e939eca8_79c2_11ea_a4da_98fa9b8e8849row1_col1\" class=\"data row1 col1\" >62.677673</td>\n            </tr>\n            <tr>\n                                <td id=\"T_e939eca8_79c2_11ea_a4da_98fa9b8e8849row2_col0\" class=\"data row2 col0\" >Shared room</td>\n                        <td id=\"T_e939eca8_79c2_11ea_a4da_98fa9b8e8849row2_col1\" class=\"data row2 col1\" >33.425532</td>\n            </tr>\n    </tbody></table>"
     },
     "metadata": {},
     "execution_count": 29
    }
   ],
   "source": [
    "# 8\n",
    "\n",
    "# df['price']\n",
    "# df.replace(to_replace='price')\n",
    "# print(len(normalValues))\n",
    "# df.groupby(by='room_type',as_index=False)['price'].sum()\n",
    "df.groupby(by='room_type',as_index=False).agg({'price':'mean'}).sort_values(['price'],ascending=False,ignore_index=True).style.hide_index()\n",
    "# pd.Series(df['price'].sum(),index=['price'])"
   ]
  },
  {
   "cell_type": "code",
   "execution_count": null,
   "metadata": {},
   "outputs": [],
   "source": []
  }
 ],
 "metadata": {
  "kernelspec": {
   "display_name": "Python 3.7.6 64-bit ('base': conda)",
   "language": "python",
   "name": "python37664bitbasecondaf626b65de32c4e79b0775ded0e5cdfcc"
  },
  "language_info": {
   "codemirror_mode": {
    "name": "ipython",
    "version": 3
   },
   "file_extension": ".py",
   "mimetype": "text/x-python",
   "name": "python",
   "nbconvert_exporter": "python",
   "pygments_lexer": "ipython3",
   "version": "3.7.6-final"
  }
 },
 "nbformat": 4,
 "nbformat_minor": 4
}