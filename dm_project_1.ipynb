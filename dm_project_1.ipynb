{
 "cells": [
  {
   "cell_type": "code",
   "execution_count": 4,
   "metadata": {},
   "outputs": [],
   "source": [
    "from pandas import DataFrame, read_csv\n",
    "import matplotlib.pyplot as plt\n",
    "import pandas as pd #this is how I usually import pandas\n",
    "import sys #only needed to determine Python version number\n",
    "import matplotlib #only needed to determine Matplotlib version number\n",
    "%matplotlib inline"
   ]
  },
  {
   "cell_type": "code",
   "execution_count": 13,
   "metadata": {},
   "outputs": [
    {
     "output_type": "stream",
     "name": "stdout",
     "text": "C:\\Users\\nikol\\Desktop\\dataMining_p1\\data\\data\\april\\listings.csv\nC:\\Users\\nikol\\Desktop\\dataMining_p1\\data\\data\\april\\listings0.csv\n"
    },
    {
     "output_type": "execute_result",
     "data": {
      "text/plain": "            id zipcode                                            transit  \\\n0        10595   11526  Note: 5-day ticket for all the public transpor...   \n1        10988   11526  Note: 5-day ticket for all the public transpor...   \n2        10990   11526  Note: 5-day ticket for all the public transpor...   \n3        10993  115 26  Note: 5-day ticket for all the public transpor...   \n4        10995   11526  Note: 5-day ticket for all the public transpor...   \n...        ...     ...                                                ...   \n9656  33819692  105 56                                                NaN   \n9657  33820145  106 81  Omonia metro station is 600 m away from the ap...   \n9658  33821757  105 54                                                NaN   \n9659  33821833  105 56                                                NaN   \n9660  33822443  116 33                                                NaN   \n\n      bedrooms  beds  review_scores_rating  number_of_reviews  \\\n0          3.0   5.0                  97.0                 19   \n1          2.0   2.0                  92.0                 31   \n2          1.0   1.0                  97.0                 29   \n3          0.0   1.0                  96.0                 45   \n4          1.0   1.0                  95.0                 17   \n...        ...   ...                   ...                ...   \n9656       1.0   1.0                   NaN                  0   \n9657       2.0   2.0                   NaN                  0   \n9658       2.0   2.0                   NaN                  0   \n9659       1.0   1.0                   NaN                  0   \n9660       1.0   2.0                   NaN                  0   \n\n                 neighbourhood                                     name  \\\n0                   Ambelokipi      96m2, 3BR, 2BA, Metro, WI-FI etc...   \n1                   Ambelokipi       75m2, 2-br, metro, wi-fi, cable TV   \n2                   Ambelokipi        50m2, Metro, WI-FI, cableTV, more   \n3                   Ambelokipi      Studio, metro, cable tv, wi-fi, etc   \n4                   Ambelokipi      47m2, close to metro,cable TV,wi-fi   \n...                        ...                                      ...   \n9656    ΕΜΠΟΡΙΚΟ ΤΡΙΓΩΝΟ-ΠΛΑΚΑ          Lysicrates Monument - Athens 33   \n9657  ΜΟΥΣΕΙΟ-ΕΞΑΡΧΕΙΑ-ΝΕΑΠΟΛΗ    Bright and Stylish Exarchia apartment   \n9658    ΕΜΠΟΡΙΚΟ ΤΡΙΓΩΝΟ-ΠΛΑΚΑ                                 Athens21   \n9659    ΕΜΠΟΡΙΚΟ ΤΡΙΓΩΝΟ-ΠΛΑΚΑ                           Tower of Winds   \n9660                  ΠΑΓΚΡΑΤΙ  Beautiful and modern Pagkrati Apartment   \n\n      latitude  ...          cancellation_policy  bed_type bathrooms  \\\n0     37.98888  ...  strict_14_with_grace_period  Real Bed       2.0   \n1     37.98843  ...  strict_14_with_grace_period  Real Bed       1.0   \n2     37.98783  ...  strict_14_with_grace_period  Real Bed       1.0   \n3     37.98861  ...  strict_14_with_grace_period  Real Bed       1.0   \n4     37.98950  ...  strict_14_with_grace_period  Real Bed       1.0   \n...        ...  ...                          ...       ...       ...   \n9656  37.97412  ...                     flexible  Real Bed       1.0   \n9657  37.98527  ...                     moderate  Real Bed       2.0   \n9658  37.97698  ...                     flexible  Real Bed       1.0   \n9659  37.97402  ...                     flexible  Real Bed       1.0   \n9660  37.96507  ...  strict_14_with_grace_period  Real Bed       1.0   \n\n     accommodates                                          amenities  \\\n0               8  {TV,\"Cable TV\",Internet,Wifi,\"Air conditioning...   \n1               5  {TV,\"Cable TV\",Internet,Wifi,\"Air conditioning...   \n2               4  {TV,\"Cable TV\",Internet,Wifi,\"Air conditioning...   \n3               2  {TV,\"Cable TV\",Internet,Wifi,\"Air conditioning...   \n4               4  {TV,\"Cable TV\",Internet,Wifi,\"Air conditioning...   \n...           ...                                                ...   \n9656            2  {TV,Wifi,\"Air conditioning\",Kitchen,Breakfast,...   \n9657            6  {TV,Wifi,\"Air conditioning\",Kitchen,Elevator,H...   \n9658            4  {TV,Wifi,\"Air conditioning\",Breakfast,Elevator...   \n9659            2  {TV,Wifi,\"Air conditioning\",Kitchen,Breakfast,...   \n9660            4  {TV,Wifi,\"Air conditioning\",Kitchen,Elevator,H...   \n\n            room_type   property_type    price availability_365 minimum_nights  \n0     Entire home/apt       Apartment   $73.00              222              1  \n1     Entire home/apt       Apartment   $82.00                0              1  \n2     Entire home/apt       Apartment   $49.00              234              1  \n3     Entire home/apt       Apartment   $38.00              226              1  \n4     Entire home/apt       Apartment   $49.00              249              2  \n...               ...             ...      ...              ...            ...  \n9656  Entire home/apt       Apartment   $90.00              260              2  \n9657  Entire home/apt       Apartment   $50.00              263              2  \n9658     Private room  Boutique hotel  $200.00               86              1  \n9659  Entire home/apt       Apartment   $90.00              260              2  \n9660  Entire home/apt       Apartment   $80.00              363              2  \n\n[9661 rows x 30 columns]",
      "text/html": "<div>\n<style scoped>\n    .dataframe tbody tr th:only-of-type {\n        vertical-align: middle;\n    }\n\n    .dataframe tbody tr th {\n        vertical-align: top;\n    }\n\n    .dataframe thead th {\n        text-align: right;\n    }\n</style>\n<table border=\"1\" class=\"dataframe\">\n  <thead>\n    <tr style=\"text-align: right;\">\n      <th></th>\n      <th>id</th>\n      <th>zipcode</th>\n      <th>transit</th>\n      <th>bedrooms</th>\n      <th>beds</th>\n      <th>review_scores_rating</th>\n      <th>number_of_reviews</th>\n      <th>neighbourhood</th>\n      <th>name</th>\n      <th>latitude</th>\n      <th>...</th>\n      <th>cancellation_policy</th>\n      <th>bed_type</th>\n      <th>bathrooms</th>\n      <th>accommodates</th>\n      <th>amenities</th>\n      <th>room_type</th>\n      <th>property_type</th>\n      <th>price</th>\n      <th>availability_365</th>\n      <th>minimum_nights</th>\n    </tr>\n  </thead>\n  <tbody>\n    <tr>\n      <th>0</th>\n      <td>10595</td>\n      <td>11526</td>\n      <td>Note: 5-day ticket for all the public transpor...</td>\n      <td>3.0</td>\n      <td>5.0</td>\n      <td>97.0</td>\n      <td>19</td>\n      <td>Ambelokipi</td>\n      <td>96m2, 3BR, 2BA, Metro, WI-FI etc...</td>\n      <td>37.98888</td>\n      <td>...</td>\n      <td>strict_14_with_grace_period</td>\n      <td>Real Bed</td>\n      <td>2.0</td>\n      <td>8</td>\n      <td>{TV,\"Cable TV\",Internet,Wifi,\"Air conditioning...</td>\n      <td>Entire home/apt</td>\n      <td>Apartment</td>\n      <td>$73.00</td>\n      <td>222</td>\n      <td>1</td>\n    </tr>\n    <tr>\n      <th>1</th>\n      <td>10988</td>\n      <td>11526</td>\n      <td>Note: 5-day ticket for all the public transpor...</td>\n      <td>2.0</td>\n      <td>2.0</td>\n      <td>92.0</td>\n      <td>31</td>\n      <td>Ambelokipi</td>\n      <td>75m2, 2-br, metro, wi-fi, cable TV</td>\n      <td>37.98843</td>\n      <td>...</td>\n      <td>strict_14_with_grace_period</td>\n      <td>Real Bed</td>\n      <td>1.0</td>\n      <td>5</td>\n      <td>{TV,\"Cable TV\",Internet,Wifi,\"Air conditioning...</td>\n      <td>Entire home/apt</td>\n      <td>Apartment</td>\n      <td>$82.00</td>\n      <td>0</td>\n      <td>1</td>\n    </tr>\n    <tr>\n      <th>2</th>\n      <td>10990</td>\n      <td>11526</td>\n      <td>Note: 5-day ticket for all the public transpor...</td>\n      <td>1.0</td>\n      <td>1.0</td>\n      <td>97.0</td>\n      <td>29</td>\n      <td>Ambelokipi</td>\n      <td>50m2, Metro, WI-FI, cableTV, more</td>\n      <td>37.98783</td>\n      <td>...</td>\n      <td>strict_14_with_grace_period</td>\n      <td>Real Bed</td>\n      <td>1.0</td>\n      <td>4</td>\n      <td>{TV,\"Cable TV\",Internet,Wifi,\"Air conditioning...</td>\n      <td>Entire home/apt</td>\n      <td>Apartment</td>\n      <td>$49.00</td>\n      <td>234</td>\n      <td>1</td>\n    </tr>\n    <tr>\n      <th>3</th>\n      <td>10993</td>\n      <td>115 26</td>\n      <td>Note: 5-day ticket for all the public transpor...</td>\n      <td>0.0</td>\n      <td>1.0</td>\n      <td>96.0</td>\n      <td>45</td>\n      <td>Ambelokipi</td>\n      <td>Studio, metro, cable tv, wi-fi, etc</td>\n      <td>37.98861</td>\n      <td>...</td>\n      <td>strict_14_with_grace_period</td>\n      <td>Real Bed</td>\n      <td>1.0</td>\n      <td>2</td>\n      <td>{TV,\"Cable TV\",Internet,Wifi,\"Air conditioning...</td>\n      <td>Entire home/apt</td>\n      <td>Apartment</td>\n      <td>$38.00</td>\n      <td>226</td>\n      <td>1</td>\n    </tr>\n    <tr>\n      <th>4</th>\n      <td>10995</td>\n      <td>11526</td>\n      <td>Note: 5-day ticket for all the public transpor...</td>\n      <td>1.0</td>\n      <td>1.0</td>\n      <td>95.0</td>\n      <td>17</td>\n      <td>Ambelokipi</td>\n      <td>47m2, close to metro,cable TV,wi-fi</td>\n      <td>37.98950</td>\n      <td>...</td>\n      <td>strict_14_with_grace_period</td>\n      <td>Real Bed</td>\n      <td>1.0</td>\n      <td>4</td>\n      <td>{TV,\"Cable TV\",Internet,Wifi,\"Air conditioning...</td>\n      <td>Entire home/apt</td>\n      <td>Apartment</td>\n      <td>$49.00</td>\n      <td>249</td>\n      <td>2</td>\n    </tr>\n    <tr>\n      <th>...</th>\n      <td>...</td>\n      <td>...</td>\n      <td>...</td>\n      <td>...</td>\n      <td>...</td>\n      <td>...</td>\n      <td>...</td>\n      <td>...</td>\n      <td>...</td>\n      <td>...</td>\n      <td>...</td>\n      <td>...</td>\n      <td>...</td>\n      <td>...</td>\n      <td>...</td>\n      <td>...</td>\n      <td>...</td>\n      <td>...</td>\n      <td>...</td>\n      <td>...</td>\n      <td>...</td>\n    </tr>\n    <tr>\n      <th>9656</th>\n      <td>33819692</td>\n      <td>105 56</td>\n      <td>NaN</td>\n      <td>1.0</td>\n      <td>1.0</td>\n      <td>NaN</td>\n      <td>0</td>\n      <td>ΕΜΠΟΡΙΚΟ ΤΡΙΓΩΝΟ-ΠΛΑΚΑ</td>\n      <td>Lysicrates Monument - Athens 33</td>\n      <td>37.97412</td>\n      <td>...</td>\n      <td>flexible</td>\n      <td>Real Bed</td>\n      <td>1.0</td>\n      <td>2</td>\n      <td>{TV,Wifi,\"Air conditioning\",Kitchen,Breakfast,...</td>\n      <td>Entire home/apt</td>\n      <td>Apartment</td>\n      <td>$90.00</td>\n      <td>260</td>\n      <td>2</td>\n    </tr>\n    <tr>\n      <th>9657</th>\n      <td>33820145</td>\n      <td>106 81</td>\n      <td>Omonia metro station is 600 m away from the ap...</td>\n      <td>2.0</td>\n      <td>2.0</td>\n      <td>NaN</td>\n      <td>0</td>\n      <td>ΜΟΥΣΕΙΟ-ΕΞΑΡΧΕΙΑ-ΝΕΑΠΟΛΗ</td>\n      <td>Bright and Stylish Exarchia apartment</td>\n      <td>37.98527</td>\n      <td>...</td>\n      <td>moderate</td>\n      <td>Real Bed</td>\n      <td>2.0</td>\n      <td>6</td>\n      <td>{TV,Wifi,\"Air conditioning\",Kitchen,Elevator,H...</td>\n      <td>Entire home/apt</td>\n      <td>Apartment</td>\n      <td>$50.00</td>\n      <td>263</td>\n      <td>2</td>\n    </tr>\n    <tr>\n      <th>9658</th>\n      <td>33821757</td>\n      <td>105 54</td>\n      <td>NaN</td>\n      <td>2.0</td>\n      <td>2.0</td>\n      <td>NaN</td>\n      <td>0</td>\n      <td>ΕΜΠΟΡΙΚΟ ΤΡΙΓΩΝΟ-ΠΛΑΚΑ</td>\n      <td>Athens21</td>\n      <td>37.97698</td>\n      <td>...</td>\n      <td>flexible</td>\n      <td>Real Bed</td>\n      <td>1.0</td>\n      <td>4</td>\n      <td>{TV,Wifi,\"Air conditioning\",Breakfast,Elevator...</td>\n      <td>Private room</td>\n      <td>Boutique hotel</td>\n      <td>$200.00</td>\n      <td>86</td>\n      <td>1</td>\n    </tr>\n    <tr>\n      <th>9659</th>\n      <td>33821833</td>\n      <td>105 56</td>\n      <td>NaN</td>\n      <td>1.0</td>\n      <td>1.0</td>\n      <td>NaN</td>\n      <td>0</td>\n      <td>ΕΜΠΟΡΙΚΟ ΤΡΙΓΩΝΟ-ΠΛΑΚΑ</td>\n      <td>Tower of Winds</td>\n      <td>37.97402</td>\n      <td>...</td>\n      <td>flexible</td>\n      <td>Real Bed</td>\n      <td>1.0</td>\n      <td>2</td>\n      <td>{TV,Wifi,\"Air conditioning\",Kitchen,Breakfast,...</td>\n      <td>Entire home/apt</td>\n      <td>Apartment</td>\n      <td>$90.00</td>\n      <td>260</td>\n      <td>2</td>\n    </tr>\n    <tr>\n      <th>9660</th>\n      <td>33822443</td>\n      <td>116 33</td>\n      <td>NaN</td>\n      <td>1.0</td>\n      <td>2.0</td>\n      <td>NaN</td>\n      <td>0</td>\n      <td>ΠΑΓΚΡΑΤΙ</td>\n      <td>Beautiful and modern Pagkrati Apartment</td>\n      <td>37.96507</td>\n      <td>...</td>\n      <td>strict_14_with_grace_period</td>\n      <td>Real Bed</td>\n      <td>1.0</td>\n      <td>4</td>\n      <td>{TV,Wifi,\"Air conditioning\",Kitchen,Elevator,H...</td>\n      <td>Entire home/apt</td>\n      <td>Apartment</td>\n      <td>$80.00</td>\n      <td>363</td>\n      <td>2</td>\n    </tr>\n  </tbody>\n</table>\n<p>9661 rows × 30 columns</p>\n</div>"
     },
     "metadata": {},
     "execution_count": 13
    }
   ],
   "source": [
    "months = ['april','febrouary','march']\n",
    "files = ['\\listings.csv','\\listings0.csv']\n",
    "# inputPath= r\"C:\\Users\\myrto\\Desktop\\data\\april\"\n",
    "inputPath= r\"C:\\Users\\nikol\\Desktop\\dataMining_p1\\data\\data\\april\"\n",
    "columnlist = ['id','zipcode','transit','bedrooms','beds','review_scores_rating','number_of_reviews','neighbourhood','name','latitude','longitude','last_review','instant_bookable','host_since','host_response_rate','host_identity_verified','host_has_profile_pic','first_review','description','city','cancellation_policy','bed_type','bathrooms','accommodates','amenities','room_type','property_type','price','availability_365','minimum_nights']\n",
    "\n",
    "framelist = []\n",
    "\n",
    "for file in files:\n",
    "    print(inputPath+file)\n",
    "    tempfile = pd.read_csv(inputPath+file)\n",
    "    tempframe = pd.DataFrame(data=tempfile)\n",
    "    framelist.append(tempframe)\n",
    "\n",
    "length = len(framelist)-1\n",
    "\n",
    "for l in range(0,length):\n",
    "    #train = framelist[0].merge(framelist[l+1],left_on='id',right_on='id')\n",
    "    train = framelist[0].combine_first(framelist[l+1])\n",
    "\n",
    "df.to_csv(\"train.csv\");\n",
    "df = pd.DataFrame(data = train, columns=columnlist)\n",
    "# df['accomodates']\n",
    "df\n",
    "\n",
    "#train = pd.DataFrame(data=train)\n",
    "#train\n",
    "#print(train)"
   ]
  },
  {
   "cell_type": "code",
   "execution_count": null,
   "metadata": {},
   "outputs": [],
   "source": []
  }
 ],
 "metadata": {
  "kernelspec": {
   "display_name": "Python 3.7.6 64-bit ('base': conda)",
   "language": "python",
   "name": "python37664bitbasecondaf626b65de32c4e79b0775ded0e5cdfcc"
  },
  "language_info": {
   "codemirror_mode": {
    "name": "ipython",
    "version": 3
   },
   "file_extension": ".py",
   "mimetype": "text/x-python",
   "name": "python",
   "nbconvert_exporter": "python",
   "pygments_lexer": "ipython3",
   "version": "3.7.6-final"
  }
 },
 "nbformat": 4,
 "nbformat_minor": 4
}