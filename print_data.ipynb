{
 "nbformat": 4,
 "nbformat_minor": 2,
 "metadata": {
  "language_info": {
   "name": "python",
   "codemirror_mode": {
    "name": "ipython",
    "version": 3
   },
   "version": "3.7.6-final"
  },
  "orig_nbformat": 2,
  "file_extension": ".py",
  "mimetype": "text/x-python",
  "name": "python",
  "npconvert_exporter": "python",
  "pygments_lexer": "ipython3",
  "version": 3,
  "kernelspec": {
   "name": "python37664bitbasecondaf626b65de32c4e79b0775ded0e5cdfcc",
   "display_name": "Python 3.7.6 64-bit ('base': conda)"
  }
 },
 "cells": [
  {
   "cell_type": "code",
   "execution_count": 2,
   "metadata": {},
   "outputs": [],
   "source": [
    "from pandas import DataFrame, read_csv\n",
    "import matplotlib.pyplot as plt\n",
    "import pandas as pd #this is how I usually import pandas\n",
    "import sys #only needed to determine Python version number\n",
    "import matplotlib #only needed to determine Matplotlib version number\n",
    "%matplotlib inline"
   ]
  },
  {
   "cell_type": "code",
   "execution_count": 7,
   "metadata": {},
   "outputs": [
    {
     "output_type": "stream",
     "name": "stdout",
     "text": "id\nlisting_url\nscrape_id\nlast_scraped\nname\nsummary\nspace\ndescription\nexperiences_offered\nneighborhood_overview\nnotes\ntransit\naccess\ninteraction\nhouse_rules\nthumbnail_url\nmedium_url\npicture_url\nxl_picture_url\nhost_id\nhost_url\nhost_name\nhost_since\nhost_location\nhost_about\nhost_response_time\nhost_response_rate\nhost_acceptance_rate\nhost_is_superhost\nhost_thumbnail_url\nhost_picture_url\nhost_neighbourhood\nhost_listings_count\nhost_total_listings_count\nhost_verifications\nhost_has_profile_pic\nhost_identity_verified\nstreet\nneighbourhood\nneighbourhood_cleansed\nneighbourhood_group_cleansed\ncity\nstate\nzipcode\nmarket\nsmart_location\ncountry_code\ncountry\nlatitude\nlongitude\nis_location_exact\nproperty_type\nroom_type\naccommodates\nbathrooms\nbedrooms\nbeds\nbed_type\namenities\nsquare_feet\nprice\nweekly_price\nmonthly_price\nsecurity_deposit\ncleaning_fee\nguests_included\nextra_people\nminimum_nights\nmaximum_nights\nminimum_minimum_nights\nmaximum_minimum_nights\nminimum_maximum_nights\nmaximum_maximum_nights\nminimum_nights_avg_ntm\nmaximum_nights_avg_ntm\ncalendar_updated\nhas_availability\navailability_30\navailability_60\navailability_90\navailability_365\ncalendar_last_scraped\nnumber_of_reviews\nnumber_of_reviews_ltm\nfirst_review\nlast_review\nreview_scores_rating\nreview_scores_accuracy\nreview_scores_cleanliness\nreview_scores_checkin\nreview_scores_communication\nreview_scores_location\nreview_scores_value\nrequires_license\nlicense\njurisdiction_names\ninstant_bookable\nis_business_travel_ready\ncancellation_policy\nrequire_guest_profile_picture\nrequire_guest_phone_verification\ncalculated_host_listings_count\ncalculated_host_listings_count_entire_homes\ncalculated_host_listings_count_private_rooms\ncalculated_host_listings_count_shared_rooms\nreviews_per_month\n"
    }
   ],
   "source": [
    "inputPath= r\"C:\\Users\\nikol\\Desktop\\dataMining_p1\\data\\data\\april\"\n",
    "files = ['\\listings.csv','\\listings0.csv','\\calendar.csv','\\\\reviews.csv','\\\\reviews0.csv','\\\\neighbourhoods.csv']\n",
    "\n",
    "framelist = []\n",
    "index = 0\n",
    "# for file in files:\n",
    "tempfile = pd.read_csv(inputPath+files[index])\n",
    "tempframe = pd.DataFrame(data=tempfile)\n",
    "framelist.append(tempframe)\n",
    "# tempframe.head(2)\n",
    "for col in tempframe.columns:\n",
    "    print(col)\n"
   ]
  },
  {
   "cell_type": "code",
   "execution_count": 8,
   "metadata": {},
   "outputs": [
    {
     "output_type": "stream",
     "name": "stdout",
     "text": "id\nname\nhost_id\nhost_name\nneighbourhood_group\nneighbourhood\nlatitude\nlongitude\nroom_type\nprice\nminimum_nights\nnumber_of_reviews\nlast_review\nreviews_per_month\ncalculated_host_listings_count\navailability_365\n"
    }
   ],
   "source": [
    "inputPath= r\"C:\\Users\\nikol\\Desktop\\dataMining_p1\\data\\data\\april\"\n",
    "files = ['\\listings.csv','\\listings0.csv','\\calendar.csv','\\\\reviews.csv','\\\\reviews0.csv']\n",
    "\n",
    "framelist = []\n",
    "index = 1\n",
    "# for file in files:\n",
    "tempfile = pd.read_csv(inputPath+files[index])\n",
    "tempframe = pd.DataFrame(data=tempfile)\n",
    "framelist.append(tempframe)\n",
    "# tempframe.head(2)\n",
    "for col in tempframe.columns:\n",
    "    print(col)\n"
   ]
  },
  {
   "cell_type": "code",
   "execution_count": 11,
   "metadata": {},
   "outputs": [
    {
     "output_type": "stream",
     "name": "stdout",
     "text": "listing_id\ndate\navailable\nprice\nadjusted_price\nminimum_nights\nmaximum_nights\n"
    }
   ],
   "source": [
    "inputPath= r\"C:\\Users\\nikol\\Desktop\\dataMining_p1\\data\\data\\april\"\n",
    "files = ['\\listings.csv','\\listings0.csv','\\calendar.csv','\\\\reviews.csv','\\\\reviews0.csv']\n",
    "\n",
    "framelist = []\n",
    "index = 2\n",
    "# for file in files:\n",
    "tempfile = pd.read_csv(inputPath+files[index])\n",
    "tempframe = pd.DataFrame(data=tempfile)\n",
    "framelist.append(tempframe)\n",
    "# tempframe.head(2)\n",
    "for col in tempframe.columns:\n",
    "    print(col)\n",
    ""
   ]
  },
  {
   "cell_type": "code",
   "execution_count": 5,
   "metadata": {},
   "outputs": [
    {
     "output_type": "execute_result",
     "data": {
      "text/plain": "    listing_id        date available   price adjusted_price  minimum_nights  \\\n0        10595  2019-03-11         f  $65.00         $65.00               1   \n1        10595  2019-03-12         f  $65.00         $65.00               1   \n2        10595  2019-03-13         t  $65.00         $65.00               1   \n3       496561  2019-03-11         t  $80.00         $80.00               1   \n4       496561  2019-03-12         t  $80.00         $80.00               1   \n5       496561  2019-03-13         t  $80.00         $80.00               1   \n6       496561  2019-03-14         t  $80.00         $80.00               1   \n7        10595  2019-03-14         t  $65.00         $65.00               1   \n8        10595  2019-03-15         t  $65.00         $65.00               2   \n9        10595  2019-03-16         t  $65.00         $65.00               2   \n10       10595  2019-03-17         t  $65.00         $65.00               2   \n11       10595  2019-03-18         f  $65.00         $65.00               1   \n12       10595  2019-03-19         f  $65.00         $65.00               1   \n13       10595  2019-03-20         t  $65.00         $65.00               1   \n14       10595  2019-03-21         t  $65.00         $65.00               1   \n15       10595  2019-03-22         t  $65.00         $65.00               2   \n16       10595  2019-03-23         t  $65.00         $65.00               2   \n17       10595  2019-03-24         t  $65.00         $65.00               2   \n18       10595  2019-03-25         t  $65.00         $65.00               1   \n19       10595  2019-03-26         t  $65.00         $65.00               1   \n20       10595  2019-03-27         t  $65.00         $65.00               1   \n21       10595  2019-03-28         t  $65.00         $65.00               1   \n22       10595  2019-03-29         t  $65.00         $65.00               2   \n23       10595  2019-03-30         t  $65.00         $65.00               2   \n24       10595  2019-03-31         t  $65.00         $65.00               2   \n25       10595  2019-04-01         t  $65.00         $65.00               1   \n26       10595  2019-04-02         t  $65.00         $65.00               1   \n27       10595  2019-04-03         t  $65.00         $65.00               1   \n28       10595  2019-04-04         t  $65.00         $65.00               1   \n29       10595  2019-04-05         f  $65.00         $65.00               1   \n30       10595  2019-04-06         f  $65.00         $65.00               1   \n31       10595  2019-04-07         f  $65.00         $65.00               1   \n32       10595  2019-04-08         t  $65.00         $65.00               1   \n33       10595  2019-04-09         t  $65.00         $65.00               1   \n34       10595  2019-04-10         t  $65.00         $65.00               1   \n35       10595  2019-04-11         f  $65.00         $65.00               1   \n36       10595  2019-04-12         f  $65.00         $65.00               1   \n37       10595  2019-04-13         f  $65.00         $65.00               1   \n38       10595  2019-04-14         t  $65.00         $65.00               2   \n39       10595  2019-04-15         t  $65.00         $65.00               2   \n40       10595  2019-04-16         t  $65.00         $65.00               2   \n41      496561  2019-03-15         t  $80.00         $80.00               1   \n42      496561  2019-03-16         t  $80.00         $80.00               1   \n43      496561  2019-03-17         t  $80.00         $80.00               1   \n44      496561  2019-03-18         t  $80.00         $80.00               1   \n45      496561  2019-03-19         t  $80.00         $80.00               1   \n46      496561  2019-03-20         t  $80.00         $80.00               1   \n47      496561  2019-03-21         t  $80.00         $80.00               1   \n48      496561  2019-03-22         t  $80.00         $80.00               1   \n49      496561  2019-03-23         t  $80.00         $80.00               1   \n\n    maximum_nights  \n0               45  \n1               45  \n2               45  \n3             1125  \n4             1125  \n5             1125  \n6             1125  \n7               45  \n8               45  \n9               45  \n10              45  \n11              45  \n12              45  \n13              45  \n14              45  \n15              45  \n16              45  \n17              45  \n18              45  \n19              45  \n20              45  \n21              45  \n22              45  \n23              45  \n24              45  \n25              45  \n26              45  \n27              45  \n28              45  \n29              45  \n30              45  \n31              45  \n32              45  \n33              45  \n34              45  \n35              45  \n36              45  \n37              45  \n38              45  \n39              45  \n40              45  \n41            1125  \n42            1125  \n43            1125  \n44            1125  \n45            1125  \n46            1125  \n47            1125  \n48            1125  \n49            1125  ",
      "text/html": "<div>\n<style scoped>\n    .dataframe tbody tr th:only-of-type {\n        vertical-align: middle;\n    }\n\n    .dataframe tbody tr th {\n        vertical-align: top;\n    }\n\n    .dataframe thead th {\n        text-align: right;\n    }\n</style>\n<table border=\"1\" class=\"dataframe\">\n  <thead>\n    <tr style=\"text-align: right;\">\n      <th></th>\n      <th>listing_id</th>\n      <th>date</th>\n      <th>available</th>\n      <th>price</th>\n      <th>adjusted_price</th>\n      <th>minimum_nights</th>\n      <th>maximum_nights</th>\n    </tr>\n  </thead>\n  <tbody>\n    <tr>\n      <th>0</th>\n      <td>10595</td>\n      <td>2019-03-11</td>\n      <td>f</td>\n      <td>$65.00</td>\n      <td>$65.00</td>\n      <td>1</td>\n      <td>45</td>\n    </tr>\n    <tr>\n      <th>1</th>\n      <td>10595</td>\n      <td>2019-03-12</td>\n      <td>f</td>\n      <td>$65.00</td>\n      <td>$65.00</td>\n      <td>1</td>\n      <td>45</td>\n    </tr>\n    <tr>\n      <th>2</th>\n      <td>10595</td>\n      <td>2019-03-13</td>\n      <td>t</td>\n      <td>$65.00</td>\n      <td>$65.00</td>\n      <td>1</td>\n      <td>45</td>\n    </tr>\n    <tr>\n      <th>3</th>\n      <td>496561</td>\n      <td>2019-03-11</td>\n      <td>t</td>\n      <td>$80.00</td>\n      <td>$80.00</td>\n      <td>1</td>\n      <td>1125</td>\n    </tr>\n    <tr>\n      <th>4</th>\n      <td>496561</td>\n      <td>2019-03-12</td>\n      <td>t</td>\n      <td>$80.00</td>\n      <td>$80.00</td>\n      <td>1</td>\n      <td>1125</td>\n    </tr>\n    <tr>\n      <th>5</th>\n      <td>496561</td>\n      <td>2019-03-13</td>\n      <td>t</td>\n      <td>$80.00</td>\n      <td>$80.00</td>\n      <td>1</td>\n      <td>1125</td>\n    </tr>\n    <tr>\n      <th>6</th>\n      <td>496561</td>\n      <td>2019-03-14</td>\n      <td>t</td>\n      <td>$80.00</td>\n      <td>$80.00</td>\n      <td>1</td>\n      <td>1125</td>\n    </tr>\n    <tr>\n      <th>7</th>\n      <td>10595</td>\n      <td>2019-03-14</td>\n      <td>t</td>\n      <td>$65.00</td>\n      <td>$65.00</td>\n      <td>1</td>\n      <td>45</td>\n    </tr>\n    <tr>\n      <th>8</th>\n      <td>10595</td>\n      <td>2019-03-15</td>\n      <td>t</td>\n      <td>$65.00</td>\n      <td>$65.00</td>\n      <td>2</td>\n      <td>45</td>\n    </tr>\n    <tr>\n      <th>9</th>\n      <td>10595</td>\n      <td>2019-03-16</td>\n      <td>t</td>\n      <td>$65.00</td>\n      <td>$65.00</td>\n      <td>2</td>\n      <td>45</td>\n    </tr>\n    <tr>\n      <th>10</th>\n      <td>10595</td>\n      <td>2019-03-17</td>\n      <td>t</td>\n      <td>$65.00</td>\n      <td>$65.00</td>\n      <td>2</td>\n      <td>45</td>\n    </tr>\n    <tr>\n      <th>11</th>\n      <td>10595</td>\n      <td>2019-03-18</td>\n      <td>f</td>\n      <td>$65.00</td>\n      <td>$65.00</td>\n      <td>1</td>\n      <td>45</td>\n    </tr>\n    <tr>\n      <th>12</th>\n      <td>10595</td>\n      <td>2019-03-19</td>\n      <td>f</td>\n      <td>$65.00</td>\n      <td>$65.00</td>\n      <td>1</td>\n      <td>45</td>\n    </tr>\n    <tr>\n      <th>13</th>\n      <td>10595</td>\n      <td>2019-03-20</td>\n      <td>t</td>\n      <td>$65.00</td>\n      <td>$65.00</td>\n      <td>1</td>\n      <td>45</td>\n    </tr>\n    <tr>\n      <th>14</th>\n      <td>10595</td>\n      <td>2019-03-21</td>\n      <td>t</td>\n      <td>$65.00</td>\n      <td>$65.00</td>\n      <td>1</td>\n      <td>45</td>\n    </tr>\n    <tr>\n      <th>15</th>\n      <td>10595</td>\n      <td>2019-03-22</td>\n      <td>t</td>\n      <td>$65.00</td>\n      <td>$65.00</td>\n      <td>2</td>\n      <td>45</td>\n    </tr>\n    <tr>\n      <th>16</th>\n      <td>10595</td>\n      <td>2019-03-23</td>\n      <td>t</td>\n      <td>$65.00</td>\n      <td>$65.00</td>\n      <td>2</td>\n      <td>45</td>\n    </tr>\n    <tr>\n      <th>17</th>\n      <td>10595</td>\n      <td>2019-03-24</td>\n      <td>t</td>\n      <td>$65.00</td>\n      <td>$65.00</td>\n      <td>2</td>\n      <td>45</td>\n    </tr>\n    <tr>\n      <th>18</th>\n      <td>10595</td>\n      <td>2019-03-25</td>\n      <td>t</td>\n      <td>$65.00</td>\n      <td>$65.00</td>\n      <td>1</td>\n      <td>45</td>\n    </tr>\n    <tr>\n      <th>19</th>\n      <td>10595</td>\n      <td>2019-03-26</td>\n      <td>t</td>\n      <td>$65.00</td>\n      <td>$65.00</td>\n      <td>1</td>\n      <td>45</td>\n    </tr>\n    <tr>\n      <th>20</th>\n      <td>10595</td>\n      <td>2019-03-27</td>\n      <td>t</td>\n      <td>$65.00</td>\n      <td>$65.00</td>\n      <td>1</td>\n      <td>45</td>\n    </tr>\n    <tr>\n      <th>21</th>\n      <td>10595</td>\n      <td>2019-03-28</td>\n      <td>t</td>\n      <td>$65.00</td>\n      <td>$65.00</td>\n      <td>1</td>\n      <td>45</td>\n    </tr>\n    <tr>\n      <th>22</th>\n      <td>10595</td>\n      <td>2019-03-29</td>\n      <td>t</td>\n      <td>$65.00</td>\n      <td>$65.00</td>\n      <td>2</td>\n      <td>45</td>\n    </tr>\n    <tr>\n      <th>23</th>\n      <td>10595</td>\n      <td>2019-03-30</td>\n      <td>t</td>\n      <td>$65.00</td>\n      <td>$65.00</td>\n      <td>2</td>\n      <td>45</td>\n    </tr>\n    <tr>\n      <th>24</th>\n      <td>10595</td>\n      <td>2019-03-31</td>\n      <td>t</td>\n      <td>$65.00</td>\n      <td>$65.00</td>\n      <td>2</td>\n      <td>45</td>\n    </tr>\n    <tr>\n      <th>25</th>\n      <td>10595</td>\n      <td>2019-04-01</td>\n      <td>t</td>\n      <td>$65.00</td>\n      <td>$65.00</td>\n      <td>1</td>\n      <td>45</td>\n    </tr>\n    <tr>\n      <th>26</th>\n      <td>10595</td>\n      <td>2019-04-02</td>\n      <td>t</td>\n      <td>$65.00</td>\n      <td>$65.00</td>\n      <td>1</td>\n      <td>45</td>\n    </tr>\n    <tr>\n      <th>27</th>\n      <td>10595</td>\n      <td>2019-04-03</td>\n      <td>t</td>\n      <td>$65.00</td>\n      <td>$65.00</td>\n      <td>1</td>\n      <td>45</td>\n    </tr>\n    <tr>\n      <th>28</th>\n      <td>10595</td>\n      <td>2019-04-04</td>\n      <td>t</td>\n      <td>$65.00</td>\n      <td>$65.00</td>\n      <td>1</td>\n      <td>45</td>\n    </tr>\n    <tr>\n      <th>29</th>\n      <td>10595</td>\n      <td>2019-04-05</td>\n      <td>f</td>\n      <td>$65.00</td>\n      <td>$65.00</td>\n      <td>1</td>\n      <td>45</td>\n    </tr>\n    <tr>\n      <th>30</th>\n      <td>10595</td>\n      <td>2019-04-06</td>\n      <td>f</td>\n      <td>$65.00</td>\n      <td>$65.00</td>\n      <td>1</td>\n      <td>45</td>\n    </tr>\n    <tr>\n      <th>31</th>\n      <td>10595</td>\n      <td>2019-04-07</td>\n      <td>f</td>\n      <td>$65.00</td>\n      <td>$65.00</td>\n      <td>1</td>\n      <td>45</td>\n    </tr>\n    <tr>\n      <th>32</th>\n      <td>10595</td>\n      <td>2019-04-08</td>\n      <td>t</td>\n      <td>$65.00</td>\n      <td>$65.00</td>\n      <td>1</td>\n      <td>45</td>\n    </tr>\n    <tr>\n      <th>33</th>\n      <td>10595</td>\n      <td>2019-04-09</td>\n      <td>t</td>\n      <td>$65.00</td>\n      <td>$65.00</td>\n      <td>1</td>\n      <td>45</td>\n    </tr>\n    <tr>\n      <th>34</th>\n      <td>10595</td>\n      <td>2019-04-10</td>\n      <td>t</td>\n      <td>$65.00</td>\n      <td>$65.00</td>\n      <td>1</td>\n      <td>45</td>\n    </tr>\n    <tr>\n      <th>35</th>\n      <td>10595</td>\n      <td>2019-04-11</td>\n      <td>f</td>\n      <td>$65.00</td>\n      <td>$65.00</td>\n      <td>1</td>\n      <td>45</td>\n    </tr>\n    <tr>\n      <th>36</th>\n      <td>10595</td>\n      <td>2019-04-12</td>\n      <td>f</td>\n      <td>$65.00</td>\n      <td>$65.00</td>\n      <td>1</td>\n      <td>45</td>\n    </tr>\n    <tr>\n      <th>37</th>\n      <td>10595</td>\n      <td>2019-04-13</td>\n      <td>f</td>\n      <td>$65.00</td>\n      <td>$65.00</td>\n      <td>1</td>\n      <td>45</td>\n    </tr>\n    <tr>\n      <th>38</th>\n      <td>10595</td>\n      <td>2019-04-14</td>\n      <td>t</td>\n      <td>$65.00</td>\n      <td>$65.00</td>\n      <td>2</td>\n      <td>45</td>\n    </tr>\n    <tr>\n      <th>39</th>\n      <td>10595</td>\n      <td>2019-04-15</td>\n      <td>t</td>\n      <td>$65.00</td>\n      <td>$65.00</td>\n      <td>2</td>\n      <td>45</td>\n    </tr>\n    <tr>\n      <th>40</th>\n      <td>10595</td>\n      <td>2019-04-16</td>\n      <td>t</td>\n      <td>$65.00</td>\n      <td>$65.00</td>\n      <td>2</td>\n      <td>45</td>\n    </tr>\n    <tr>\n      <th>41</th>\n      <td>496561</td>\n      <td>2019-03-15</td>\n      <td>t</td>\n      <td>$80.00</td>\n      <td>$80.00</td>\n      <td>1</td>\n      <td>1125</td>\n    </tr>\n    <tr>\n      <th>42</th>\n      <td>496561</td>\n      <td>2019-03-16</td>\n      <td>t</td>\n      <td>$80.00</td>\n      <td>$80.00</td>\n      <td>1</td>\n      <td>1125</td>\n    </tr>\n    <tr>\n      <th>43</th>\n      <td>496561</td>\n      <td>2019-03-17</td>\n      <td>t</td>\n      <td>$80.00</td>\n      <td>$80.00</td>\n      <td>1</td>\n      <td>1125</td>\n    </tr>\n    <tr>\n      <th>44</th>\n      <td>496561</td>\n      <td>2019-03-18</td>\n      <td>t</td>\n      <td>$80.00</td>\n      <td>$80.00</td>\n      <td>1</td>\n      <td>1125</td>\n    </tr>\n    <tr>\n      <th>45</th>\n      <td>496561</td>\n      <td>2019-03-19</td>\n      <td>t</td>\n      <td>$80.00</td>\n      <td>$80.00</td>\n      <td>1</td>\n      <td>1125</td>\n    </tr>\n    <tr>\n      <th>46</th>\n      <td>496561</td>\n      <td>2019-03-20</td>\n      <td>t</td>\n      <td>$80.00</td>\n      <td>$80.00</td>\n      <td>1</td>\n      <td>1125</td>\n    </tr>\n    <tr>\n      <th>47</th>\n      <td>496561</td>\n      <td>2019-03-21</td>\n      <td>t</td>\n      <td>$80.00</td>\n      <td>$80.00</td>\n      <td>1</td>\n      <td>1125</td>\n    </tr>\n    <tr>\n      <th>48</th>\n      <td>496561</td>\n      <td>2019-03-22</td>\n      <td>t</td>\n      <td>$80.00</td>\n      <td>$80.00</td>\n      <td>1</td>\n      <td>1125</td>\n    </tr>\n    <tr>\n      <th>49</th>\n      <td>496561</td>\n      <td>2019-03-23</td>\n      <td>t</td>\n      <td>$80.00</td>\n      <td>$80.00</td>\n      <td>1</td>\n      <td>1125</td>\n    </tr>\n  </tbody>\n</table>\n</div>"
     },
     "metadata": {},
     "execution_count": 5
    }
   ],
   "source": [
    "inputPath= r\"C:\\Users\\nikol\\Desktop\\dataMining_p1\\data\\data\\march\"\n",
    "files = ['\\listings.csv','\\listings0.csv','\\calendar.csv','\\\\reviews.csv','\\\\reviews0.csv','\\\\neighbourhoods.csv','\\\\train.csv']\n",
    "\n",
    "framelist = []\n",
    "index = 2\n",
    "# for file in files:\n",
    "tempfile = pd.read_csv(inputPath+files[index])\n",
    "tempframe = pd.DataFrame(data=tempfile)\n",
    "framelist.append(tempframe)\n",
    "tempframe\n",
    "# for col in tempframe.columns:\n",
    "#     print(col)\n"
   ]
  },
  {
   "cell_type": "code",
   "execution_count": 4,
   "metadata": {},
   "outputs": [
    {
     "output_type": "execute_result",
     "data": {
      "text/plain": "             id zipcode                                            transit  \\\n0         10595   11526  Note: 5-day ticket for all the public transpor...   \n1         10988   11526  Note: 5-day ticket for all the public transpor...   \n2         10990   11526  Note: 5-day ticket for all the public transpor...   \n3         10993  115 26  Note: 5-day ticket for all the public transpor...   \n4         10995   11526  Note: 5-day ticket for all the public transpor...   \n...         ...     ...                                                ...   \n28978  33819692  105 56                                                NaN   \n28979  33820145  106 81  Omonia metro station is 600 m away from the ap...   \n28980  33821757  105 54                                                NaN   \n28981  33821833  105 56                                                NaN   \n28982  33822443  116 33                                                NaN   \n\n       bedrooms  beds  review_scores_rating  number_of_reviews neighbourhood  \\\n0           3.0   5.0                  97.0                 19    Ambelokipi   \n1           2.0   2.0                  92.0                 31    Ambelokipi   \n2           1.0   1.0                  97.0                 29    Ambelokipi   \n3           0.0   1.0                  96.0                 45    Ambelokipi   \n4           1.0   1.0                  95.0                 17    Ambelokipi   \n...         ...   ...                   ...                ...           ...   \n28978       1.0   1.0                   NaN                  0           NaN   \n28979       2.0   2.0                   NaN                  0           NaN   \n28980       2.0   2.0                   NaN                  0           NaN   \n28981       1.0   1.0                   NaN                  0           NaN   \n28982       1.0   2.0                   NaN                  0           NaN   \n\n                                          name  latitude  ...  bathrooms  \\\n0          96m2, 3BR, 2BA, Metro, WI-FI etc...  37.98888  ...        2.0   \n1           75m2, 2-br, metro, wi-fi, cable TV  37.98843  ...        1.0   \n2            50m2, Metro, WI-FI, cableTV, more  37.98783  ...        1.0   \n3          Studio, metro, cable tv, wi-fi, etc  37.98861  ...        1.0   \n4          47m2, close to metro,cable TV,wi-fi  37.98950  ...        1.0   \n...                                        ...       ...  ...        ...   \n28978          Lysicrates Monument - Athens 33  37.97412  ...        1.0   \n28979    Bright and Stylish Exarchia apartment  37.98527  ...        2.0   \n28980                                 Athens21  37.97698  ...        1.0   \n28981                           Tower of Winds  37.97402  ...        1.0   \n28982  Beautiful and modern Pagkrati Apartment  37.96507  ...        1.0   \n\n      accommodates                                          amenities  \\\n0                8  {TV,\"Cable TV\",Internet,Wifi,\"Air conditioning...   \n1                5  {TV,\"Cable TV\",Internet,Wifi,\"Air conditioning...   \n2                4  {TV,\"Cable TV\",Internet,Wifi,\"Air conditioning...   \n3                2  {TV,\"Cable TV\",Internet,Wifi,\"Air conditioning...   \n4                4  {TV,\"Cable TV\",Internet,Wifi,\"Air conditioning...   \n...            ...                                                ...   \n28978            2  {TV,Wifi,\"Air conditioning\",Kitchen,Breakfast,...   \n28979            6  {TV,Wifi,\"Air conditioning\",Kitchen,Elevator,H...   \n28980            4  {TV,Wifi,\"Air conditioning\",Breakfast,Elevator...   \n28981            2  {TV,Wifi,\"Air conditioning\",Kitchen,Breakfast,...   \n28982            4  {TV,Wifi,\"Air conditioning\",Kitchen,Elevator,H...   \n\n             room_type   property_type  price availability_365 minimum_nights  \\\n0      Entire home/apt       Apartment   73.0              222              1   \n1      Entire home/apt       Apartment   82.0                0              1   \n2      Entire home/apt       Apartment   49.0              234              1   \n3      Entire home/apt       Apartment   38.0              226              1   \n4      Entire home/apt       Apartment   49.0              249              2   \n...                ...             ...    ...              ...            ...   \n28978  Entire home/apt       Apartment   90.0              260              2   \n28979  Entire home/apt       Apartment   50.0              263              2   \n28980     Private room  Boutique hotel  200.0               86              1   \n28981  Entire home/apt       Apartment   90.0              260              2   \n28982  Entire home/apt       Apartment   80.0              363              2   \n\n         host_id month_id  \n0          37177    april  \n1          37177    april  \n2          37177    april  \n3          37177    april  \n4          37177    april  \n...          ...      ...  \n28978   15316457    march  \n28979  255343893    march  \n28980  255355237    march  \n28981   15316457    march  \n28982  255359259    march  \n\n[28983 rows x 32 columns]",
      "text/html": "<div>\n<style scoped>\n    .dataframe tbody tr th:only-of-type {\n        vertical-align: middle;\n    }\n\n    .dataframe tbody tr th {\n        vertical-align: top;\n    }\n\n    .dataframe thead th {\n        text-align: right;\n    }\n</style>\n<table border=\"1\" class=\"dataframe\">\n  <thead>\n    <tr style=\"text-align: right;\">\n      <th></th>\n      <th>id</th>\n      <th>zipcode</th>\n      <th>transit</th>\n      <th>bedrooms</th>\n      <th>beds</th>\n      <th>review_scores_rating</th>\n      <th>number_of_reviews</th>\n      <th>neighbourhood</th>\n      <th>name</th>\n      <th>latitude</th>\n      <th>...</th>\n      <th>bathrooms</th>\n      <th>accommodates</th>\n      <th>amenities</th>\n      <th>room_type</th>\n      <th>property_type</th>\n      <th>price</th>\n      <th>availability_365</th>\n      <th>minimum_nights</th>\n      <th>host_id</th>\n      <th>month_id</th>\n    </tr>\n  </thead>\n  <tbody>\n    <tr>\n      <th>0</th>\n      <td>10595</td>\n      <td>11526</td>\n      <td>Note: 5-day ticket for all the public transpor...</td>\n      <td>3.0</td>\n      <td>5.0</td>\n      <td>97.0</td>\n      <td>19</td>\n      <td>Ambelokipi</td>\n      <td>96m2, 3BR, 2BA, Metro, WI-FI etc...</td>\n      <td>37.98888</td>\n      <td>...</td>\n      <td>2.0</td>\n      <td>8</td>\n      <td>{TV,\"Cable TV\",Internet,Wifi,\"Air conditioning...</td>\n      <td>Entire home/apt</td>\n      <td>Apartment</td>\n      <td>73.0</td>\n      <td>222</td>\n      <td>1</td>\n      <td>37177</td>\n      <td>april</td>\n    </tr>\n    <tr>\n      <th>1</th>\n      <td>10988</td>\n      <td>11526</td>\n      <td>Note: 5-day ticket for all the public transpor...</td>\n      <td>2.0</td>\n      <td>2.0</td>\n      <td>92.0</td>\n      <td>31</td>\n      <td>Ambelokipi</td>\n      <td>75m2, 2-br, metro, wi-fi, cable TV</td>\n      <td>37.98843</td>\n      <td>...</td>\n      <td>1.0</td>\n      <td>5</td>\n      <td>{TV,\"Cable TV\",Internet,Wifi,\"Air conditioning...</td>\n      <td>Entire home/apt</td>\n      <td>Apartment</td>\n      <td>82.0</td>\n      <td>0</td>\n      <td>1</td>\n      <td>37177</td>\n      <td>april</td>\n    </tr>\n    <tr>\n      <th>2</th>\n      <td>10990</td>\n      <td>11526</td>\n      <td>Note: 5-day ticket for all the public transpor...</td>\n      <td>1.0</td>\n      <td>1.0</td>\n      <td>97.0</td>\n      <td>29</td>\n      <td>Ambelokipi</td>\n      <td>50m2, Metro, WI-FI, cableTV, more</td>\n      <td>37.98783</td>\n      <td>...</td>\n      <td>1.0</td>\n      <td>4</td>\n      <td>{TV,\"Cable TV\",Internet,Wifi,\"Air conditioning...</td>\n      <td>Entire home/apt</td>\n      <td>Apartment</td>\n      <td>49.0</td>\n      <td>234</td>\n      <td>1</td>\n      <td>37177</td>\n      <td>april</td>\n    </tr>\n    <tr>\n      <th>3</th>\n      <td>10993</td>\n      <td>115 26</td>\n      <td>Note: 5-day ticket for all the public transpor...</td>\n      <td>0.0</td>\n      <td>1.0</td>\n      <td>96.0</td>\n      <td>45</td>\n      <td>Ambelokipi</td>\n      <td>Studio, metro, cable tv, wi-fi, etc</td>\n      <td>37.98861</td>\n      <td>...</td>\n      <td>1.0</td>\n      <td>2</td>\n      <td>{TV,\"Cable TV\",Internet,Wifi,\"Air conditioning...</td>\n      <td>Entire home/apt</td>\n      <td>Apartment</td>\n      <td>38.0</td>\n      <td>226</td>\n      <td>1</td>\n      <td>37177</td>\n      <td>april</td>\n    </tr>\n    <tr>\n      <th>4</th>\n      <td>10995</td>\n      <td>11526</td>\n      <td>Note: 5-day ticket for all the public transpor...</td>\n      <td>1.0</td>\n      <td>1.0</td>\n      <td>95.0</td>\n      <td>17</td>\n      <td>Ambelokipi</td>\n      <td>47m2, close to metro,cable TV,wi-fi</td>\n      <td>37.98950</td>\n      <td>...</td>\n      <td>1.0</td>\n      <td>4</td>\n      <td>{TV,\"Cable TV\",Internet,Wifi,\"Air conditioning...</td>\n      <td>Entire home/apt</td>\n      <td>Apartment</td>\n      <td>49.0</td>\n      <td>249</td>\n      <td>2</td>\n      <td>37177</td>\n      <td>april</td>\n    </tr>\n    <tr>\n      <th>...</th>\n      <td>...</td>\n      <td>...</td>\n      <td>...</td>\n      <td>...</td>\n      <td>...</td>\n      <td>...</td>\n      <td>...</td>\n      <td>...</td>\n      <td>...</td>\n      <td>...</td>\n      <td>...</td>\n      <td>...</td>\n      <td>...</td>\n      <td>...</td>\n      <td>...</td>\n      <td>...</td>\n      <td>...</td>\n      <td>...</td>\n      <td>...</td>\n      <td>...</td>\n      <td>...</td>\n    </tr>\n    <tr>\n      <th>28978</th>\n      <td>33819692</td>\n      <td>105 56</td>\n      <td>NaN</td>\n      <td>1.0</td>\n      <td>1.0</td>\n      <td>NaN</td>\n      <td>0</td>\n      <td>NaN</td>\n      <td>Lysicrates Monument - Athens 33</td>\n      <td>37.97412</td>\n      <td>...</td>\n      <td>1.0</td>\n      <td>2</td>\n      <td>{TV,Wifi,\"Air conditioning\",Kitchen,Breakfast,...</td>\n      <td>Entire home/apt</td>\n      <td>Apartment</td>\n      <td>90.0</td>\n      <td>260</td>\n      <td>2</td>\n      <td>15316457</td>\n      <td>march</td>\n    </tr>\n    <tr>\n      <th>28979</th>\n      <td>33820145</td>\n      <td>106 81</td>\n      <td>Omonia metro station is 600 m away from the ap...</td>\n      <td>2.0</td>\n      <td>2.0</td>\n      <td>NaN</td>\n      <td>0</td>\n      <td>NaN</td>\n      <td>Bright and Stylish Exarchia apartment</td>\n      <td>37.98527</td>\n      <td>...</td>\n      <td>2.0</td>\n      <td>6</td>\n      <td>{TV,Wifi,\"Air conditioning\",Kitchen,Elevator,H...</td>\n      <td>Entire home/apt</td>\n      <td>Apartment</td>\n      <td>50.0</td>\n      <td>263</td>\n      <td>2</td>\n      <td>255343893</td>\n      <td>march</td>\n    </tr>\n    <tr>\n      <th>28980</th>\n      <td>33821757</td>\n      <td>105 54</td>\n      <td>NaN</td>\n      <td>2.0</td>\n      <td>2.0</td>\n      <td>NaN</td>\n      <td>0</td>\n      <td>NaN</td>\n      <td>Athens21</td>\n      <td>37.97698</td>\n      <td>...</td>\n      <td>1.0</td>\n      <td>4</td>\n      <td>{TV,Wifi,\"Air conditioning\",Breakfast,Elevator...</td>\n      <td>Private room</td>\n      <td>Boutique hotel</td>\n      <td>200.0</td>\n      <td>86</td>\n      <td>1</td>\n      <td>255355237</td>\n      <td>march</td>\n    </tr>\n    <tr>\n      <th>28981</th>\n      <td>33821833</td>\n      <td>105 56</td>\n      <td>NaN</td>\n      <td>1.0</td>\n      <td>1.0</td>\n      <td>NaN</td>\n      <td>0</td>\n      <td>NaN</td>\n      <td>Tower of Winds</td>\n      <td>37.97402</td>\n      <td>...</td>\n      <td>1.0</td>\n      <td>2</td>\n      <td>{TV,Wifi,\"Air conditioning\",Kitchen,Breakfast,...</td>\n      <td>Entire home/apt</td>\n      <td>Apartment</td>\n      <td>90.0</td>\n      <td>260</td>\n      <td>2</td>\n      <td>15316457</td>\n      <td>march</td>\n    </tr>\n    <tr>\n      <th>28982</th>\n      <td>33822443</td>\n      <td>116 33</td>\n      <td>NaN</td>\n      <td>1.0</td>\n      <td>2.0</td>\n      <td>NaN</td>\n      <td>0</td>\n      <td>NaN</td>\n      <td>Beautiful and modern Pagkrati Apartment</td>\n      <td>37.96507</td>\n      <td>...</td>\n      <td>1.0</td>\n      <td>4</td>\n      <td>{TV,Wifi,\"Air conditioning\",Kitchen,Elevator,H...</td>\n      <td>Entire home/apt</td>\n      <td>Apartment</td>\n      <td>80.0</td>\n      <td>363</td>\n      <td>2</td>\n      <td>255359259</td>\n      <td>march</td>\n    </tr>\n  </tbody>\n</table>\n<p>28983 rows × 32 columns</p>\n</div>"
     },
     "metadata": {},
     "execution_count": 4
    }
   ],
   "source": [
    "inputPath= r\"C:\\Users\\nikol\\Desktop\\Project-1-DataMining-\"\n",
    "files = ['\\\\train.csv']\n",
    "\n",
    "framelist = []\n",
    "index = 0\n",
    "# for file in files:\n",
    "tempfile = pd.read_csv(inputPath+files[index])\n",
    "tempframe = pd.DataFrame(data=tempfile)\n",
    "framelist.append(tempframe)\n",
    "tempframe\n",
    "# type(tempframe['beds'][0])\n",
    "# for col in tempframe.columns:\n",
    "#     print(col)\n",
    ""
   ]
  },
  {
   "cell_type": "code",
   "execution_count": null,
   "metadata": {},
   "outputs": [],
   "source": [
    "\n",
    "# df.isnull.sum(axis=0)\n",
    "# count_nan = len(df)-df.count()\n",
    "# print(count_nan)\n",
    "# print('------')\n",
    "# temp = len(df)\n",
    "# print(temp)\n",
    "# df.drop_duplicates()\n",
    "# temp = len(df)\n",
    "# print(temp)\n",
    "\n",
    "# df.isnull.sum(axis=0)\n",
    "\n",
    "# df['accomodates']\n",
    "# df\n",
    "\n",
    "#train = pd.DataFrame(data=train)\n",
    "#train"
   ]
  }
 ]
}