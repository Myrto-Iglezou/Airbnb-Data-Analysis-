{
 "cells": [
  {
   "cell_type": "code",
   "execution_count": 2,
   "metadata": {},
   "outputs": [],
   "source": [
    "from pandas import DataFrame, read_csv\n",
    "import matplotlib.pyplot as plt\n",
    "import pandas as pd #this is how I usually import pandas\n",
    "import sys #only needed to determine Python version number\n",
    "import matplotlib #only needed to determine Matplotlib version number\n",
    "%matplotlib inline"
   ]
  },
  {
   "cell_type": "code",
   "execution_count": 142,
   "metadata": {},
   "outputs": [],
   "source": [
    "months = ['april','febrouary','march']\n",
    "files = ['\\listings.csv','\\listings0.csv']\n",
    "# inputPath= r\"C:\\Users\\myrto\\Desktop\\data\\april\"\n",
    "inputPath= r\"C:\\Users\\nikol\\Desktop\\dataMining_p1\\data\\data\\april\"\n",
    "columnlist = ['id','zipcode','transit','bedrooms','beds','review_scores_rating','number_of_reviews','neighbourhood','name','latitude','longitude','last_review','instant_bookable','host_since','host_response_rate','host_identity_verified','host_has_profile_pic','first_review','description','city','cancellation_policy','bed_type','bathrooms','accommodates','amenities','room_type','property_type','price','availability_365','minimum_nights','host_id']\n",
    "\n",
    "framelist = []\n",
    "\n",
    "for file in files:\n",
    "    tempfile = pd.read_csv(inputPath+file)\n",
    "    tempframe = pd.DataFrame(data=tempfile)\n",
    "    framelist.append(tempframe)\n",
    "\n",
    "length = len(framelist)-1\n",
    "\n",
    "for l in range(0,length):\n",
    "    #train = framelist[0].merge(framelist[l+1],left_on='id',right_on='id')\n",
    "    train = framelist[0].combine_first(framelist[l+1])\n",
    "\n",
    "df = pd.DataFrame(data = train, columns=columnlist)\n",
    "# df.to_csv(\"train.csv\");\n",
    "\n",
    "# df['accomodates']\n",
    "# df\n",
    "#train = pd.DataFrame(data=train)\n",
    "#train"
   ]
  },
  {
   "cell_type": "code",
   "execution_count": 26,
   "metadata": {},
   "outputs": [
    {
     "output_type": "execute_result",
     "data": {
      "text/plain": "Entire home/apt    8510\nName: room_type, dtype: int64"
     },
     "metadata": {},
     "execution_count": 26
    }
   ],
   "source": [
    "# 1\n",
    "count = df['room_type'].value_counts()\n",
    "count.head(1)"
   ]
  },
  {
   "cell_type": "code",
   "execution_count": 84,
   "metadata": {},
   "outputs": [],
   "source": [
    "# 2\n",
    "# df.plot(kind='line',x='host_since',y='price')\n",
    ""
   ]
  },
  {
   "cell_type": "code",
   "execution_count": null,
   "metadata": {},
   "outputs": [],
   "source": [
    "# 3\n"
   ]
  },
  {
   "cell_type": "code",
   "execution_count": 164,
   "metadata": {},
   "outputs": [
    {
     "output_type": "execute_result",
     "data": {
      "text/plain": "<pandas.io.formats.style.Styler at 0x13b80eb9488>",
      "text/html": "<style  type=\"text/css\" >\n</style><table id=\"T_8afcdd3e_79b1_11ea_9916_98fa9b8e8849\" ><thead>    <tr>        <th class=\"col_heading level0 col0\" >neighbourhood</th>        <th class=\"col_heading level0 col1\" >host_id</th>    </tr></thead><tbody>\n                <tr>\n                                <td id=\"T_8afcdd3e_79b1_11ea_9916_98fa9b8e8849row0_col0\" class=\"data row0 col0\" >Plaka</td>\n                        <td id=\"T_8afcdd3e_79b1_11ea_9916_98fa9b8e8849row0_col1\" class=\"data row0 col1\" >574</td>\n            </tr>\n    </tbody></table>"
     },
     "metadata": {},
     "execution_count": 164
    }
   ],
   "source": [
    "#4\n",
    "df.groupby(by='neighbourhood',as_index=False).agg({'host_id':'nunique'}).sort_values(['host_id'],ascending=False,ignore_index=True).head(1).style.hide_index()\n",
    "\n",
    "# ['host_id'].nunique(5)\n",
    "# df.groupby(['neighbourhood'])['host_id'].nunique()\n",
    "# df.neighbourhood.value_counts()\n",
    "# df.groupby(['neighbourhood'])['host_id'].transform('nunique')\n",
    ""
   ]
  },
  {
   "cell_type": "code",
   "execution_count": 162,
   "metadata": {
    "tags": [
     "outputPrepend",
     "outputPrepend"
    ]
   },
   "outputs": [
    {
     "output_type": "execute_result",
     "data": {
      "text/plain": "<pandas.io.formats.style.Styler at 0x13b817ed808>",
      "text/html": "<style  type=\"text/css\" >\n</style><table id=\"T_c0cc2988_79af_11ea_9754_98fa9b8e8849\" ><thead>    <tr>        <th class=\"col_heading level0 col0\" >room_type</th>        <th class=\"col_heading level0 col1\" >price</th>    </tr></thead><tbody>\n                <tr>\n                                <td id=\"T_c0cc2988_79af_11ea_9754_98fa9b8e8849row0_col0\" class=\"data row0 col0\" >Private room</td>\n                        <td id=\"T_c0cc2988_79af_11ea_9754_98fa9b8e8849row0_col1\" class=\"data row0 col1\" >78.677536</td>\n            </tr>\n            <tr>\n                                <td id=\"T_c0cc2988_79af_11ea_9754_98fa9b8e8849row1_col0\" class=\"data row1 col0\" >Entire home/apt</td>\n                        <td id=\"T_c0cc2988_79af_11ea_9754_98fa9b8e8849row1_col1\" class=\"data row1 col1\" >62.677673</td>\n            </tr>\n            <tr>\n                                <td id=\"T_c0cc2988_79af_11ea_9754_98fa9b8e8849row2_col0\" class=\"data row2 col0\" >Shared room</td>\n                        <td id=\"T_c0cc2988_79af_11ea_9754_98fa9b8e8849row2_col1\" class=\"data row2 col1\" >33.425532</td>\n            </tr>\n    </tbody></table>"
     },
     "metadata": {},
     "execution_count": 162
    }
   ],
   "source": [
    "# 8\n",
    "normalValues = []\n",
    "# for pr in df['price']:\n",
    "#     temp = pr.lstrip('$')\n",
    "#     temp = temp.replace(',','')\n",
    "#     # print(temp)\n",
    "#     temp = float(temp)\n",
    "#     # print(temp)\n",
    "#     normalValues.append(temp)\n",
    "# df['price'] = normalValues\n",
    "# df['price']\n",
    "# df.replace(to_replace='price')\n",
    "# print(len(normalValues))\n",
    "# df.groupby(by='room_type',as_index=False)['price'].sum()\n",
    "df.groupby(by='room_type',as_index=False).agg({'price':'mean'}).sort_values(['price'],ascending=False,ignore_index=True).style.hide_index()\n",
    "# pd.Series(df['price'].sum(),index=['price'])"
   ]
  },
  {
   "cell_type": "code",
   "execution_count": null,
   "metadata": {},
   "outputs": [],
   "source": []
  }
 ],
 "metadata": {
  "kernelspec": {
   "display_name": "Python 3.7.6 64-bit ('base': conda)",
   "language": "python",
   "name": "python37664bitbasecondaf626b65de32c4e79b0775ded0e5cdfcc"
  },
  "language_info": {
   "codemirror_mode": {
    "name": "ipython",
    "version": 3
   },
   "file_extension": ".py",
   "mimetype": "text/x-python",
   "name": "python",
   "nbconvert_exporter": "python",
   "pygments_lexer": "ipython3",
   "version": "3.7.6-final"
  }
 },
 "nbformat": 4,
 "nbformat_minor": 4
}