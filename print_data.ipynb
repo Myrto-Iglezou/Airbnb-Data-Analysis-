{
 "nbformat": 4,
 "nbformat_minor": 2,
 "metadata": {
  "language_info": {
   "name": "python",
   "codemirror_mode": {
    "name": "ipython",
    "version": 3
   },
   "version": "3.7.6-final"
  },
  "orig_nbformat": 2,
  "file_extension": ".py",
  "mimetype": "text/x-python",
  "name": "python",
  "npconvert_exporter": "python",
  "pygments_lexer": "ipython3",
  "version": 3,
  "kernelspec": {
   "name": "python37664bitbasecondaf626b65de32c4e79b0775ded0e5cdfcc",
   "display_name": "Python 3.7.6 64-bit ('base': conda)"
  }
 },
 "cells": [
  {
   "cell_type": "code",
   "execution_count": 1,
   "metadata": {},
   "outputs": [],
   "source": [
    "from pandas import DataFrame, read_csv\n",
    "import matplotlib.pyplot as plt\n",
    "import pandas as pd #this is how I usually import pandas\n",
    "import sys #only needed to determine Python version number\n",
    "import matplotlib #only needed to determine Matplotlib version number\n",
    "%matplotlib inline"
   ]
  },
  {
   "cell_type": "code",
   "execution_count": 7,
   "metadata": {},
   "outputs": [
    {
     "output_type": "stream",
     "name": "stdout",
     "text": "id\nlisting_url\nscrape_id\nlast_scraped\nname\nsummary\nspace\ndescription\nexperiences_offered\nneighborhood_overview\nnotes\ntransit\naccess\ninteraction\nhouse_rules\nthumbnail_url\nmedium_url\npicture_url\nxl_picture_url\nhost_id\nhost_url\nhost_name\nhost_since\nhost_location\nhost_about\nhost_response_time\nhost_response_rate\nhost_acceptance_rate\nhost_is_superhost\nhost_thumbnail_url\nhost_picture_url\nhost_neighbourhood\nhost_listings_count\nhost_total_listings_count\nhost_verifications\nhost_has_profile_pic\nhost_identity_verified\nstreet\nneighbourhood\nneighbourhood_cleansed\nneighbourhood_group_cleansed\ncity\nstate\nzipcode\nmarket\nsmart_location\ncountry_code\ncountry\nlatitude\nlongitude\nis_location_exact\nproperty_type\nroom_type\naccommodates\nbathrooms\nbedrooms\nbeds\nbed_type\namenities\nsquare_feet\nprice\nweekly_price\nmonthly_price\nsecurity_deposit\ncleaning_fee\nguests_included\nextra_people\nminimum_nights\nmaximum_nights\nminimum_minimum_nights\nmaximum_minimum_nights\nminimum_maximum_nights\nmaximum_maximum_nights\nminimum_nights_avg_ntm\nmaximum_nights_avg_ntm\ncalendar_updated\nhas_availability\navailability_30\navailability_60\navailability_90\navailability_365\ncalendar_last_scraped\nnumber_of_reviews\nnumber_of_reviews_ltm\nfirst_review\nlast_review\nreview_scores_rating\nreview_scores_accuracy\nreview_scores_cleanliness\nreview_scores_checkin\nreview_scores_communication\nreview_scores_location\nreview_scores_value\nrequires_license\nlicense\njurisdiction_names\ninstant_bookable\nis_business_travel_ready\ncancellation_policy\nrequire_guest_profile_picture\nrequire_guest_phone_verification\ncalculated_host_listings_count\ncalculated_host_listings_count_entire_homes\ncalculated_host_listings_count_private_rooms\ncalculated_host_listings_count_shared_rooms\nreviews_per_month\n"
    }
   ],
   "source": [
    "inputPath= r\"C:\\Users\\nikol\\Desktop\\dataMining_p1\\data\\data\\april\"\n",
    "files = ['\\listings.csv','\\listings0.csv','\\calendar.csv','\\\\reviews.csv','\\\\reviews0.csv','\\\\neighbourhoods.csv']\n",
    "\n",
    "framelist = []\n",
    "index = 0\n",
    "# for file in files:\n",
    "tempfile = pd.read_csv(inputPath+files[index])\n",
    "tempframe = pd.DataFrame(data=tempfile)\n",
    "framelist.append(tempframe)\n",
    "# tempframe.head(2)\n",
    "for col in tempframe.columns:\n",
    "    print(col)\n"
   ]
  },
  {
   "cell_type": "code",
   "execution_count": 8,
   "metadata": {},
   "outputs": [
    {
     "output_type": "stream",
     "name": "stdout",
     "text": "id\nname\nhost_id\nhost_name\nneighbourhood_group\nneighbourhood\nlatitude\nlongitude\nroom_type\nprice\nminimum_nights\nnumber_of_reviews\nlast_review\nreviews_per_month\ncalculated_host_listings_count\navailability_365\n"
    }
   ],
   "source": [
    "inputPath= r\"C:\\Users\\nikol\\Desktop\\dataMining_p1\\data\\data\\april\"\n",
    "files = ['\\listings.csv','\\listings0.csv','\\calendar.csv','\\\\reviews.csv','\\\\reviews0.csv']\n",
    "\n",
    "framelist = []\n",
    "index = 1\n",
    "# for file in files:\n",
    "tempfile = pd.read_csv(inputPath+files[index])\n",
    "tempframe = pd.DataFrame(data=tempfile)\n",
    "framelist.append(tempframe)\n",
    "# tempframe.head(2)\n",
    "for col in tempframe.columns:\n",
    "    print(col)\n"
   ]
  },
  {
   "cell_type": "code",
   "execution_count": 11,
   "metadata": {},
   "outputs": [
    {
     "output_type": "stream",
     "name": "stdout",
     "text": "listing_id\ndate\navailable\nprice\nadjusted_price\nminimum_nights\nmaximum_nights\n"
    }
   ],
   "source": [
    "inputPath= r\"C:\\Users\\nikol\\Desktop\\dataMining_p1\\data\\data\\april\"\n",
    "files = ['\\listings.csv','\\listings0.csv','\\calendar.csv','\\\\reviews.csv','\\\\reviews0.csv']\n",
    "\n",
    "framelist = []\n",
    "index = 2\n",
    "# for file in files:\n",
    "tempfile = pd.read_csv(inputPath+files[index])\n",
    "tempframe = pd.DataFrame(data=tempfile)\n",
    "framelist.append(tempframe)\n",
    "# tempframe.head(2)\n",
    "for col in tempframe.columns:\n",
    "    print(col)\n",
    ""
   ]
  },
  {
   "cell_type": "code",
   "execution_count": 13,
   "metadata": {},
   "outputs": [
    {
     "output_type": "execute_result",
     "data": {
      "text/plain": "    neighbourhood_group                     neighbourhood\n0                   NaN                    1Ο ΝΕΚΡΟΤΑΦΕΙΟ\n1                   NaN                  ΑΓΙΟΣ ΕΛΕΥΘΕΡΙΟΣ\n2                   NaN  ΑΓΙΟΣ ΚΩΝΣΤΑΝΤΙΝΟΣ-ΠΛΑΤΕΙΑ ΒΑΘΗΣ\n3                   NaN                    ΑΓΙΟΣ ΝΙΚΟΛΑΟΣ\n4                   NaN                 ΑΚΑΔΗΜΙΑ ΠΛΑΤΩΝΟΣ\n5                   NaN                          ΑΚΡΟΠΟΛΗ\n6                   NaN                       ΑΜΠΕΛΟΚΗΠΟΙ\n7                   NaN                        ΑΝΩ ΚΥΨΕΛΗ\n8                   NaN                       ΑΝΩ ΠΑΤΗΣΙΑ\n9                   NaN                         ΒΟΤΑΝΙΚΟΣ\n10                  NaN                             ΓΚΑΖΙ\n11                  NaN                             ΓΚΥΖΗ\n12                  NaN                             ΓΟΥΒΑ\n13                  NaN                             ΓΟΥΔΙ\n14                  NaN                       ΕΛΛΗΝΟΡΩΣΩΝ\n15                  NaN            ΕΜΠΟΡΙΚΟ ΤΡΙΓΩΝΟ-ΠΛΑΚΑ\n16                  NaN                           ΖΑΠΠΕΙΟ\n17                  NaN                            ΘΗΣΕΙΟ\n18                  NaN                            ΙΛΙΣΙΑ\n19                  NaN                        ΚΕΡΑΜΕΙΚΟΣ\n20                  NaN                        ΚΟΛΟΚΥΝΘΟΥ\n21                  NaN                          ΚΟΛΩΝΑΚΙ\n22                  NaN                           ΚΟΛΩΝΟΣ\n23                  NaN               ΚΟΥΚΑΚΙ-ΜΑΚΡΥΓΙΑΝΝΗ\n24                  NaN                            ΚΥΨΕΛΗ\n25                  NaN                        ΛΥΚΑΒΗΤΤΟΣ\n26                  NaN          ΜΟΥΣΕΙΟ-ΕΞΑΡΧΕΙΑ-ΝΕΑΠΟΛΗ\n27                  NaN                        ΝΕΑ ΚΥΨΕΛΗ\n28                  NaN                       ΝΕΟΣ ΚΟΣΜΟΣ\n29                  NaN                           ΝΙΡΒΑΝΑ\n30                  NaN                          ΠΑΓΚΡΑΤΙ\n31                  NaN                           ΠΑΤΗΣΙΑ\n32                  NaN                       ΠΕΔΙΟ ΑΡΕΩΣ\n33                  NaN                         ΠΕΝΤΑΓΩΝΟ\n34                  NaN                         ΠΕΤΡΑΛΩΝΑ\n35                  NaN                  ΠΛΑΤΕΙΑ ΑΜΕΡΙΚΗΣ\n36                  NaN                   ΠΛΑΤΕΙΑ ΑΤΤΙΚΗΣ\n37                  NaN                          ΠΟΛΥΓΩΝΟ\n38                  NaN                          ΠΡΟΜΠΟΝΑ\n39                  NaN                          ΡΗΓΙΛΛΗΣ\n40                  NaN                         ΡΙΖΟΥΠΟΛΗ\n41                  NaN                              ΡΟΥΦ\n42                  NaN                           ΣΕΠΟΛΙΑ\n43                  NaN                            ΣΤΑΔΙΟ\n44                  NaN                   ΣΤΑΘΜΟΣ ΛΑΡΙΣΗΣ",
      "text/html": "<div>\n<style scoped>\n    .dataframe tbody tr th:only-of-type {\n        vertical-align: middle;\n    }\n\n    .dataframe tbody tr th {\n        vertical-align: top;\n    }\n\n    .dataframe thead th {\n        text-align: right;\n    }\n</style>\n<table border=\"1\" class=\"dataframe\">\n  <thead>\n    <tr style=\"text-align: right;\">\n      <th></th>\n      <th>neighbourhood_group</th>\n      <th>neighbourhood</th>\n    </tr>\n  </thead>\n  <tbody>\n    <tr>\n      <th>0</th>\n      <td>NaN</td>\n      <td>1Ο ΝΕΚΡΟΤΑΦΕΙΟ</td>\n    </tr>\n    <tr>\n      <th>1</th>\n      <td>NaN</td>\n      <td>ΑΓΙΟΣ ΕΛΕΥΘΕΡΙΟΣ</td>\n    </tr>\n    <tr>\n      <th>2</th>\n      <td>NaN</td>\n      <td>ΑΓΙΟΣ ΚΩΝΣΤΑΝΤΙΝΟΣ-ΠΛΑΤΕΙΑ ΒΑΘΗΣ</td>\n    </tr>\n    <tr>\n      <th>3</th>\n      <td>NaN</td>\n      <td>ΑΓΙΟΣ ΝΙΚΟΛΑΟΣ</td>\n    </tr>\n    <tr>\n      <th>4</th>\n      <td>NaN</td>\n      <td>ΑΚΑΔΗΜΙΑ ΠΛΑΤΩΝΟΣ</td>\n    </tr>\n    <tr>\n      <th>5</th>\n      <td>NaN</td>\n      <td>ΑΚΡΟΠΟΛΗ</td>\n    </tr>\n    <tr>\n      <th>6</th>\n      <td>NaN</td>\n      <td>ΑΜΠΕΛΟΚΗΠΟΙ</td>\n    </tr>\n    <tr>\n      <th>7</th>\n      <td>NaN</td>\n      <td>ΑΝΩ ΚΥΨΕΛΗ</td>\n    </tr>\n    <tr>\n      <th>8</th>\n      <td>NaN</td>\n      <td>ΑΝΩ ΠΑΤΗΣΙΑ</td>\n    </tr>\n    <tr>\n      <th>9</th>\n      <td>NaN</td>\n      <td>ΒΟΤΑΝΙΚΟΣ</td>\n    </tr>\n    <tr>\n      <th>10</th>\n      <td>NaN</td>\n      <td>ΓΚΑΖΙ</td>\n    </tr>\n    <tr>\n      <th>11</th>\n      <td>NaN</td>\n      <td>ΓΚΥΖΗ</td>\n    </tr>\n    <tr>\n      <th>12</th>\n      <td>NaN</td>\n      <td>ΓΟΥΒΑ</td>\n    </tr>\n    <tr>\n      <th>13</th>\n      <td>NaN</td>\n      <td>ΓΟΥΔΙ</td>\n    </tr>\n    <tr>\n      <th>14</th>\n      <td>NaN</td>\n      <td>ΕΛΛΗΝΟΡΩΣΩΝ</td>\n    </tr>\n    <tr>\n      <th>15</th>\n      <td>NaN</td>\n      <td>ΕΜΠΟΡΙΚΟ ΤΡΙΓΩΝΟ-ΠΛΑΚΑ</td>\n    </tr>\n    <tr>\n      <th>16</th>\n      <td>NaN</td>\n      <td>ΖΑΠΠΕΙΟ</td>\n    </tr>\n    <tr>\n      <th>17</th>\n      <td>NaN</td>\n      <td>ΘΗΣΕΙΟ</td>\n    </tr>\n    <tr>\n      <th>18</th>\n      <td>NaN</td>\n      <td>ΙΛΙΣΙΑ</td>\n    </tr>\n    <tr>\n      <th>19</th>\n      <td>NaN</td>\n      <td>ΚΕΡΑΜΕΙΚΟΣ</td>\n    </tr>\n    <tr>\n      <th>20</th>\n      <td>NaN</td>\n      <td>ΚΟΛΟΚΥΝΘΟΥ</td>\n    </tr>\n    <tr>\n      <th>21</th>\n      <td>NaN</td>\n      <td>ΚΟΛΩΝΑΚΙ</td>\n    </tr>\n    <tr>\n      <th>22</th>\n      <td>NaN</td>\n      <td>ΚΟΛΩΝΟΣ</td>\n    </tr>\n    <tr>\n      <th>23</th>\n      <td>NaN</td>\n      <td>ΚΟΥΚΑΚΙ-ΜΑΚΡΥΓΙΑΝΝΗ</td>\n    </tr>\n    <tr>\n      <th>24</th>\n      <td>NaN</td>\n      <td>ΚΥΨΕΛΗ</td>\n    </tr>\n    <tr>\n      <th>25</th>\n      <td>NaN</td>\n      <td>ΛΥΚΑΒΗΤΤΟΣ</td>\n    </tr>\n    <tr>\n      <th>26</th>\n      <td>NaN</td>\n      <td>ΜΟΥΣΕΙΟ-ΕΞΑΡΧΕΙΑ-ΝΕΑΠΟΛΗ</td>\n    </tr>\n    <tr>\n      <th>27</th>\n      <td>NaN</td>\n      <td>ΝΕΑ ΚΥΨΕΛΗ</td>\n    </tr>\n    <tr>\n      <th>28</th>\n      <td>NaN</td>\n      <td>ΝΕΟΣ ΚΟΣΜΟΣ</td>\n    </tr>\n    <tr>\n      <th>29</th>\n      <td>NaN</td>\n      <td>ΝΙΡΒΑΝΑ</td>\n    </tr>\n    <tr>\n      <th>30</th>\n      <td>NaN</td>\n      <td>ΠΑΓΚΡΑΤΙ</td>\n    </tr>\n    <tr>\n      <th>31</th>\n      <td>NaN</td>\n      <td>ΠΑΤΗΣΙΑ</td>\n    </tr>\n    <tr>\n      <th>32</th>\n      <td>NaN</td>\n      <td>ΠΕΔΙΟ ΑΡΕΩΣ</td>\n    </tr>\n    <tr>\n      <th>33</th>\n      <td>NaN</td>\n      <td>ΠΕΝΤΑΓΩΝΟ</td>\n    </tr>\n    <tr>\n      <th>34</th>\n      <td>NaN</td>\n      <td>ΠΕΤΡΑΛΩΝΑ</td>\n    </tr>\n    <tr>\n      <th>35</th>\n      <td>NaN</td>\n      <td>ΠΛΑΤΕΙΑ ΑΜΕΡΙΚΗΣ</td>\n    </tr>\n    <tr>\n      <th>36</th>\n      <td>NaN</td>\n      <td>ΠΛΑΤΕΙΑ ΑΤΤΙΚΗΣ</td>\n    </tr>\n    <tr>\n      <th>37</th>\n      <td>NaN</td>\n      <td>ΠΟΛΥΓΩΝΟ</td>\n    </tr>\n    <tr>\n      <th>38</th>\n      <td>NaN</td>\n      <td>ΠΡΟΜΠΟΝΑ</td>\n    </tr>\n    <tr>\n      <th>39</th>\n      <td>NaN</td>\n      <td>ΡΗΓΙΛΛΗΣ</td>\n    </tr>\n    <tr>\n      <th>40</th>\n      <td>NaN</td>\n      <td>ΡΙΖΟΥΠΟΛΗ</td>\n    </tr>\n    <tr>\n      <th>41</th>\n      <td>NaN</td>\n      <td>ΡΟΥΦ</td>\n    </tr>\n    <tr>\n      <th>42</th>\n      <td>NaN</td>\n      <td>ΣΕΠΟΛΙΑ</td>\n    </tr>\n    <tr>\n      <th>43</th>\n      <td>NaN</td>\n      <td>ΣΤΑΔΙΟ</td>\n    </tr>\n    <tr>\n      <th>44</th>\n      <td>NaN</td>\n      <td>ΣΤΑΘΜΟΣ ΛΑΡΙΣΗΣ</td>\n    </tr>\n  </tbody>\n</table>\n</div>"
     },
     "metadata": {},
     "execution_count": 13
    }
   ],
   "source": [
    "inputPath= r\"C:\\Users\\nikol\\Desktop\\dataMining_p1\\data\\data\\april\"\n",
    "files = ['\\listings.csv','\\listings0.csv','\\calendar.csv','\\\\reviews.csv','\\\\reviews0.csv','\\\\neighbourhoods.csv']\n",
    "\n",
    "framelist = []\n",
    "index = 5\n",
    "# for file in files:\n",
    "tempfile = pd.read_csv(inputPath+files[index])\n",
    "tempframe = pd.DataFrame(data=tempfile)\n",
    "framelist.append(tempframe)\n",
    "tempframe.head(50)\n",
    "# for col in tempframe.columns:\n",
    "#     print(col)\n",
    ""
   ]
  },
  {
   "cell_type": "code",
   "execution_count": null,
   "metadata": {},
   "outputs": [],
   "source": []
  }
 ]
}